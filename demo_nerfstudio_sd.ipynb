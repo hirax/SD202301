{
 "cells": [
  {
   "cell_type": "markdown",
   "metadata": {
    "id": "SiiXJ7K_fePG"
   },
   "source": [
    "<p align=\"center\">\n",
    "    <picture>\n",
    "    <source media=\"(prefers-color-scheme: dark)\" srcset=\"https://docs.nerf.studio/en/latest/_images/logo-dark.png\">\n",
    "    <source media=\"(prefers-color-scheme: light)\" srcset=\"https://docs.nerf.studio/en/latest/_images/logo.png\">\n",
    "    <img alt=\"nerfstudio\" src=\"https://docs.nerf.studio/en/latest/_images/logo.png\" width=\"400\">\n",
    "    </picture>\n",
    "</p>\n",
    "\n",
    "\n",
    "# Nerfstudio: A collaboration friendly studio for NeRFs\n",
    "\n",
    "\n",
    "![GitHub stars](https://img.shields.io/github/stars/nerfstudio-project/nerfstudio?color=gold&style=social)\n",
    "\n",
    "This colab shows how to train and view NeRFs from Nerfstudio both on pre-made datasets or from your own videos/images.\n",
    "\n",
    "\\\\\n",
    "\n",
    "Credit to [NeX](https://nex-mpi.github.io/) for Google Colab format."
   ]
  },
  {
   "cell_type": "markdown",
   "metadata": {
    "id": "Yyx5h6kz5ga7"
   },
   "source": [
    "## Frequently Asked Questions\n",
    "\n",
    "*  **Downloading custom data is stalling (no output):**\n",
    "    * This is a bug in Colab. The data is processing, but may take a while to complete. You will know processing completed if `data/nerfstudio/custom_data/transforms.json` exists. Terminating the cell early will result in not being able to train.\n",
    "*  **Processing custom data is taking a long time:**\n",
    "    * The time it takes to process data depends on the number of images and its resolution. If processing is taking too long, try lowering the resolution of your custom data.\n",
    "*  **Error: Data processing did not complete:**\n",
    "    * This means that the data processing script did not fully complete. This could be because there were not enough images, or that the images were of low quality. We recommend images with little to no motion blur and lots of visual overlap of the scene to increase the chances of successful processing.\n",
    "*   **Training is not showing progress**:\n",
    "    * The lack of output is a bug in Colab. You can see the training progress from the viewer.\n",
    "* **Viewer Quality is bad / Low resolution**:\n",
    "    * This may be because more GPU is being used on training that rendering the viewer. Try pausing training or decreasing training utilization.\n",
    "* **WARNING: Running pip as the 'root' user...:**:\n",
    "    * This and other pip warnings or errors can be safely ignored.\n",
    "* **Other problems?**\n",
    "    * Feel free to create an issue on our [GitHub repo](https://github.com/nerfstudio-project/nerfstudio).\n"
   ]
  },
  {
   "cell_type": "code",
   "execution_count": null,
   "metadata": {
    "colab": {
     "base_uri": "https://localhost:8080/"
    },
    "executionInfo": {
     "elapsed": 23003,
     "status": "ok",
     "timestamp": 1668508971131,
     "user": {
      "displayName": "jun hirabayashi",
      "userId": "08095852224263512423"
     },
     "user_tz": -540
    },
    "id": "RGr33zHaHak0",
    "outputId": "dbc4fd53-eddf-4c3f-cf78-d3ad0b29428d"
   },
   "outputs": [
    {
     "name": "stdout",
     "output_type": "stream",
     "text": [
      "⏬ Downloading https://github.com/jaimergp/miniforge/releases/latest/download/Mambaforge-colab-Linux-x86_64.sh...\n",
      "📦 Installing...\n",
      "📌 Adjusting configuration...\n",
      "🩹 Patching environment...\n",
      "⏲ Done in 0:00:18\n",
      "🔁 Restarting kernel...\n"
     ]
    }
   ],
   "source": [
    "#@title # Install Conda (requires runtime restart) { vertical-output: true, display-mode: \"form\" }\n",
    "\n",
    "!pip install -q condacolab\n",
    "import condacolab\n",
    "condacolab.install()"
   ]
  },
  {
   "cell_type": "code",
   "execution_count": null,
   "metadata": {
    "colab": {
     "base_uri": "https://localhost:8080/",
     "height": 1000
    },
    "executionInfo": {
     "elapsed": 526014,
     "status": "ok",
     "timestamp": 1668509509672,
     "user": {
      "displayName": "jun hirabayashi",
      "userId": "08095852224263512423"
     },
     "user_tz": -540
    },
    "id": "9oyLHl8QfYwP",
    "outputId": "e5ed51a6-fdaf-41f8-8282-fa73eaadefcb"
   },
   "outputs": [],
   "source": [
    "#@title # Install Nerfstudio and Dependencies (~10 min) { vertical-output: true, display-mode: \"form\" }\n",
    "\n",
    "%cd /content/\n",
    "!pip install --upgrade pip\n",
    "!pip install torch==1.12.1+cu113 torchvision==0.13.1+cu113 -f https://download.pytorch.org/whl/torch_stable.html\n",
    "\n",
    "# Installing TinyCuda\n",
    "%cd /content/\n",
    "!gdown \"https://drive.google.com/u/1/uc?id=1q8fuc-Mqiev5GTBTRA5UPgCaQDzuqKqj\" \n",
    "!pip install tinycudann-1.6-cp37-cp37m-linux_x86_64.whl\n",
    "\n",
    "# Installing COLMAP\n",
    "%cd /content/\n",
    "!conda install -c conda-forge colmap\n",
    "\n",
    "# Install nerfstudio\n",
    "%cd /content/\n",
    "!pip install nerfstudio"
   ]
  },
  {
   "cell_type": "code",
   "execution_count": null,
   "metadata": {
    "colab": {
     "base_uri": "https://localhost:8080/"
    },
    "id": "msVLprI4gRA4",
    "outputId": "e8074daa-afd5-4021-ae41-27ce0e2bf0d8"
   },
   "outputs": [
    {
     "name": "stdout",
     "output_type": "stream",
     "text": [
      "/content\n",
      "Downloading...\n",
      "From: https://drive.google.com/uc?id=1dmjWGXlJnUxwosN6MVooCDQe970PkD-1\n",
      "To: /content/data/nerfstudio/poster.zip\n",
      "100% 750M/750M [00:02<00:00, 295MB/s]\n",
      "\u001b[0mData Processing Succeeded!\n"
     ]
    }
   ],
   "source": [
    "#@markdown <h1> Downloading and Processing Data</h1>\n",
    "#@markdown <h3>Pick the preset scene or upload your own images/video</h3>\n",
    "import os\n",
    "import glob\n",
    "from google.colab import files\n",
    "from IPython.core.display import display, HTML\n",
    "\n",
    "scene = '\\uD83D\\uDDBC poster' #@param ['🖼 poster', '🚜 dozer', '🌄 desolation', '📤 upload your images' , '🎥 upload your own video', '💽 upload your own Record3D data']\n",
    "scene = ' '.join(scene.split(' ')[1:])\n",
    "\n",
    "if scene not in ['upload your images', 'upload your own video', 'upload your own Record3D data']:\n",
    "    %cd /content/\n",
    "    !ns-download-data --dataset=nerfstudio --capture=$scene\n",
    "elif scene == 'upload your own Record3D data':\n",
    "    display(HTML('<h3>Zip your Record3D folder, and upload.</h3>'))\n",
    "    display(HTML('<h3>More information on Record3D can be found <a href=\"https://docs.nerf.studio/en/latest/quickstart/custom_dataset.html#record3d-capture\" target=\"_blank\">here</a>.</h3>'))\n",
    "    %cd /content/\n",
    "    !mkdir -p /content/data/nerfstudio/custom_data\n",
    "    %cd /content/data/nerfstudio/custom_data/\n",
    "    uploaded = files.upload()\n",
    "    dir = os.getcwd()\n",
    "    preupload_datasets = [os.path.join(dir, f) for f in uploaded.keys()]\n",
    "    record_3d_zipfile = preupload_datasets[0]\n",
    "    !unzip $record_3d_zipfile -d /content/data/nerfstudio/custom_data\n",
    "    custom_data_directory = glob.glob('/content/data/nerfstudio/custom_data/*')[0]\n",
    "    !ns-process-data record3d --data $custom_data_directory --output-dir /content/data/nerfstudio/custom_data/\n",
    "else:\n",
    "    display(HTML('<h3>Select your custom data</h3>'))\n",
    "    display(HTML('<p/>You can select multiple images by pressing ctrl, cmd or shift and click.<p>'))\n",
    "    display(HTML('<p/>Note: This may take time, especially on hires inputs, so we recommend to download dataset after creation.<p>'))\n",
    "    !mkdir -p /content/data/nerfstudio/custom_data\n",
    "    if scene == 'upload your images':\n",
    "        !mkdir -p /content/data/nerfstudio/custom_data/raw_images\n",
    "        %cd /content/data/nerfstudio/custom_data/raw_images\n",
    "        uploaded = files.upload()\n",
    "        dir = os.getcwd()\n",
    "    else:\n",
    "        %cd /content/data/nerfstudio/custom_data/\n",
    "        uploaded = files.upload()\n",
    "        dir = os.getcwd()\n",
    "    preupload_datasets = [os.path.join(dir, f) for f in uploaded.keys()]\n",
    "    del uploaded\n",
    "    %cd /content/\n",
    "\n",
    "    if scene == 'upload your images':\n",
    "        !ns-process-data images --data /content/data/nerfstudio/custom_data/raw_images --output-dir /content/data/nerfstudio/custom_data/\n",
    "    else:\n",
    "        video_path = preupload_datasets[0]\n",
    "        !ns-process-data video --data $video_path --output-dir /content/data/nerfstudio/custom_data/\n",
    "\n",
    "    scene = \"custom_data\"\n",
    "print(\"Data Processing Succeeded!\")"
   ]
  },
  {
   "cell_type": "code",
   "execution_count": null,
   "metadata": {
    "colab": {
     "base_uri": "https://localhost:8080/"
    },
    "executionInfo": {
     "elapsed": 55730,
     "status": "ok",
     "timestamp": 1668510241521,
     "user": {
      "displayName": "jun hirabayashi",
      "userId": "08095852224263512423"
     },
     "user_tz": -540
    },
    "id": "qIwiC_0O0ytE",
    "outputId": "eb46e11e-de67-415e-e545-f4594351d648"
   },
   "outputs": [
    {
     "name": "stdout",
     "output_type": "stream",
     "text": [
      "Mounted at /gdrive\n"
     ]
    }
   ],
   "source": [
    "#@title #COLMAP結果を保存/復帰{vertical-output:true,display-mode:\"form\"}\n",
    "\n",
    "import shutil\n",
    "from google.colab import drive\n",
    "drive.mount('/gdrive') \n",
    "\n",
    "state = 'Continue' #@param ['First play', 'Continue']\n",
    "if state == 'First play': # 処理結果をColabからGoogle Driveに保存する\n",
    "    shutil.copytree( \"/content/data/nerfstudio/custom_data\",\n",
    "                     \"/gdrive/MyDrive/Colab Notebooks/custom_data\")\n",
    "else:                # 既存の処理結果をGoogle DriveからColabに復帰する\n",
    "    scene = \"custom_data\"\n",
    "    shutil.copytree( \"/gdrive/MyDrive/Colab Notebooks/custom_data\",\n",
    "                     \"/content/data/nerfstudio/custom_data\")\n",
    "\n",
    "\n",
    "#%ls /content/data/nerfstudio/custom_data\n",
    "\n",
    "\n",
    "# 以前にも実行していたら\n",
    "#%rm - rf \"/gdrive/MyDrive/Colab Notebooks/custom_data\"\n",
    "\n",
    "#%ls \"/gdrive/MyDrive/Colab Notebooks/custom_data\""
   ]
  },
  {
   "cell_type": "code",
   "execution_count": null,
   "metadata": {
    "colab": {
     "base_uri": "https://localhost:8080/",
     "height": 918
    },
    "executionInfo": {
     "elapsed": 4571,
     "status": "ok",
     "timestamp": 1668510989338,
     "user": {
      "displayName": "jun hirabayashi",
      "userId": "08095852224263512423"
     },
     "user_tz": -540
    },
    "id": "VoKDxqEcjmfC",
    "outputId": "ce3fde0b-930d-4cea-8594-f3d773cba666"
   },
   "outputs": [
    {
     "name": "stdout",
     "output_type": "stream",
     "text": [
      "/content\n",
      "\u001b[K\u001b[?25h/tools/node/bin/lt -> /tools/node/lib/node_modules/localtunnel/bin/lt.js\n",
      "+ localtunnel@2.0.2\n",
      "updated 1 package in 0.406s\n",
      "https://viewer.nerf.studio/?websocket_url=wss://hot-rabbits-rescue-35-230-172-213.loca.lt\n",
      "You may need to click Refresh Page after you start training!\n"
     ]
    },
    {
     "data": {
      "text/html": [
       "\n",
       "        <iframe\n",
       "            width=\"100%\"\n",
       "            height=\"800\"\n",
       "            src=\"https://viewer.nerf.studio/?websocket_url=wss://hot-rabbits-rescue-35-230-172-213.loca.lt\"\n",
       "            frameborder=\"0\"\n",
       "            allowfullscreen\n",
       "        ></iframe>\n",
       "        "
      ],
      "text/plain": [
       "<IPython.lib.display.IFrame at 0x7fd341ce4050>"
      ]
     },
     "execution_count": 10,
     "metadata": {},
     "output_type": "execute_result"
    }
   ],
   "source": [
    "#@title # Set up and Start Viewer\n",
    "\n",
    "%cd /content\n",
    "\n",
    "# Install localtunnel\n",
    "# We are using localtunnel https://github.com/localtunnel/localtunnel but ngrok could also be used\n",
    "!npm install -g localtunnel\n",
    "\n",
    "# Tunnel port 7007, the default for\n",
    "!rm url.txt 2> /dev/null\n",
    "get_ipython().system_raw('lt --port 7007 >> url.txt 2>&1 &')\n",
    "\n",
    "import time\n",
    "time.sleep(3) # the previous command needs time to write to url.txt\n",
    "\n",
    "\n",
    "with open('url.txt') as f:\n",
    "  lines = f.readlines()\n",
    "websocket_url = lines[0].split(\": \")[1].strip().replace(\"https\", \"wss\")\n",
    "# from nerfstudio.utils.io import load_from_json\n",
    "# from pathlib import Path\n",
    "# json_filename = \"nerfstudio/nerfstudio/viewer/app/package.json\"\n",
    "# version = load_from_json(Path(json_filename))[\"version\"]\n",
    "url = f\"https://viewer.nerf.studio/?websocket_url={websocket_url}\"\n",
    "print(url)\n",
    "print(\"You may need to click Refresh Page after you start training!\")\n",
    "from IPython import display\n",
    "display.IFrame(src=url, height=800, width=\"100%\")"
   ]
  },
  {
   "cell_type": "code",
   "execution_count": null,
   "metadata": {
    "colab": {
     "base_uri": "https://localhost:8080/"
    },
    "id": "vkdbzs3C3CBG",
    "outputId": "33459a68-8819-4804-9725-30af2e405f5b"
   },
   "outputs": [],
   "source": [
    "#@title # Start Training {vertical-output:true}\n",
    "\n",
    "import os\n",
    "from IPython.core.display import display, HTML\n",
    "\n",
    "%cd /content\n",
    "state = \"First play\" #@param [\"First play\",\"Continue\"] {allow-input:true}\n",
    "if os.path.exists(f\"data/nerfstudio/{scene}/transforms.json\"):\n",
    "    if state == 'First play':\n",
    "        !ns-train nerfacto --viewer.websocket-port 7007 nerfstudio-data --data data/nerfstudio/$scene --downscale-factor 4\n",
    "    else: # Google Driveから、既存の処理結果をColabに復元して、学習実行\n",
    "        shutil.copytree( \"/gdrive/MyDrive/Colab Notebooks/outputs\",\n",
    "                         \"/content/outputs\")\n",
    "        file_timestamp = '2022-11-14_122043' # 復帰させたい計算結果\n",
    "        !ns-train nerfacto --viewer.websocket-port 7007 --trainer.load_dir outputs/data-nerfstudio-custom_data/nerfacto/{file_timestamp}/nerfstudio_models nerfstudio-data --data data/nerfstudio/$scene --downscale-factor 4\n",
    "else:\n",
    "    display(HTML('<h3 style=\"color:red\">カメラ情報がありません</h3>'))\n",
    "\n",
    "#from google.colab import drive\n",
    "#drive.mount('/gdrive', force_remount=True) "
   ]
  },
  {
   "cell_type": "code",
   "execution_count": null,
   "metadata": {
    "colab": {
     "base_uri": "https://localhost:8080/"
    },
    "id": "5gLng7GUl85k",
    "outputId": "19b52caf-ecfd-4ad6-ceef-760acb3e85de"
   },
   "outputs": [],
   "source": [
    "#@title # 学習開始 {vertical-output:true}\n",
    "\n",
    "import os\n",
    "from IPython.core.display import display, HTML\n",
    "\n",
    "%cd /content\n",
    "state = \"First play\" #@param [\"First play\",\"Continue\"] {allow-input:true}\n",
    "if os.path.exists(f\"data/nerfstudio/{scene}/transforms.json\"):\n",
    "    if state == 'First play':\n",
    "        !ns-train nerfacto --viewer.websocket-port 7007 nerfstudio-data --data data/nerfstudio/$scene --downscale-factor 4\n",
    "    else: # Google Driveから、既存の処理結果をColabに復元して、学習実行\n",
    "        #shutil.copytree( \"/gdrive/MyDrive/Colab Notebooks/outputs\",\n",
    "        #                 \"/content/outputs\")\n",
    "        file_timestamp = '2022-11-14_122043' # 復帰させたい計算結果\n",
    "        !ns-train nerfacto --viewer.websocket-port 7007 --trainer.load_dir outputs/data-nerfstudio-custom_data/nerfacto/{file_timestamp}/nerfstudio_models nerfstudio-data --data data/nerfstudio/$scene --downscale-factor 4\n",
    "\n",
    "        #%rm - rf \"/content/outputs\"\n",
    "        # Google Driveから、既存の処理結果をColabに復元して、学習実行実行\n",
    "        #shutil.copytree( \"/gdrive/MyDrive/Colab Notebooks/outputs\",\n",
    "        #                 \"/content/outputs\")\n",
    "else:\n",
    "    display(HTML('<h3 style=\"color:red\">Error: Data processing did not complete</h3>'))\n",
    "    display(HTML('<h3>Please re-run `Downloading and Processing Data`, or view the FAQ for more info.</h3>'))"
   ]
  },
  {
   "cell_type": "code",
   "execution_count": null,
   "metadata": {
    "colab": {
     "base_uri": "https://localhost:8080/",
     "height": 37
    },
    "executionInfo": {
     "elapsed": 1883,
     "status": "ok",
     "timestamp": 1668429091332,
     "user": {
      "displayName": "jun hirabayashi",
      "userId": "08095852224263512423"
     },
     "user_tz": -540
    },
    "id": "hxCwR6X-481z",
    "outputId": "07672c90-4295-4edb-89bf-3f9404d8c74d"
   },
   "outputs": [],
   "source": [
    "#@title # 学習結果の保存 { vertical-output: true }\n",
    "shutil.copytree( \"/content/outputs\",\n",
    "                 \"/gdrive/MyDrive/Colab Notebooks/outputs\")\n",
    "\n",
    "#!rm - rf \"/gdrive/MyDrive/Colab Notebooks/outputs\""
   ]
  },
  {
   "cell_type": "code",
   "execution_count": null,
   "metadata": {
    "id": "di8vGgz5RDgn"
   },
   "outputs": [],
   "source": [
    "!ls /content/outputs/data-nerfstudio-custom_data/nerfacto\n",
    "!ls /content/data/nerfstudio/custom_data/\n",
    "#print(scene)\n",
    "#scene = \"custom_data\""
   ]
  },
  {
   "cell_type": "code",
   "execution_count": null,
   "metadata": {
    "colab": {
     "base_uri": "https://localhost:8080/",
     "height": 125
    },
    "executionInfo": {
     "elapsed": 17,
     "status": "error",
     "timestamp": 1668486125633,
     "user": {
      "displayName": "jun hirabayashi",
      "userId": "08095852224263512423"
     },
     "user_tz": -540
    },
    "id": "hk4YbBQpgea9",
    "outputId": "cefb1a22-5dea-44eb-e316-b20f623be13b"
   },
   "outputs": [],
   "source": [
    "# 動画の保存（ViewerのRENDERタブからRENDERボタンを押すと、このコマンドを実行するように言われる）\n",
    "!ns-render --load-config outputs/data-nerfstudio-custom_data/nerfacto/2022-11-15_033259/config.yml --traj filename --camera-path-filename outputs/data-nerfstudio-custom_data/nerfacto/2022-11-15_033259/camera_path.json --output-path renders/render_output.mp4"
   ]
  },
  {
   "cell_type": "code",
   "execution_count": null,
   "metadata": {
    "id": "m_N8_cLfjoXD"
   },
   "outputs": [],
   "source": [
    "#@title # Start Training { vertical-output: true }\n",
    "\n",
    "%cd /content\n",
    "if os.path.exists(f\"data/nerfstudio/{scene}/transforms.json\"):\n",
    "    !ns-train nerfacto --viewer.websocket-port 7007 nerfstudio-data --data data/nerfstudio/$scene --downscale-factor 4\n",
    "else:\n",
    "    display(HTML('<h3 style=\"color:red\">Error: Data processing did not complete</h3>'))\n",
    "    display(HTML('<h3>Please re-run `Downloading and Processing Data`, or view the FAQ for more info.</h3>'))"
   ]
  },
  {
   "cell_type": "code",
   "execution_count": null,
   "metadata": {
    "colab": {
     "base_uri": "https://localhost:8080/",
     "height": 470
    },
    "executionInfo": {
     "elapsed": 9465,
     "status": "error",
     "timestamp": 1668432019828,
     "user": {
      "displayName": "jun hirabayashi",
      "userId": "08095852224263512423"
     },
     "user_tz": -540
    },
    "id": "WGt8ukG6Htg3",
    "outputId": "0805d348-3ad4-438e-cba6-ab809f0f33f2"
   },
   "outputs": [],
   "source": [
    "#@title # Render Video { vertical-output: true }\n",
    "#@markdown <h3>Export the camera path from within the viewer, then run this cell.</h3>\n",
    "#@markdown <h5>The rendered video should be at renders/output.mp4!</h5>\n",
    "from google.colab import files\n",
    "\n",
    "base_dir = \"/content/outputs/data-nerfstudio-\" + scene + \"/nerfacto/\"\n",
    "training_run_dir = base_dir + os.listdir(base_dir)[0]\n",
    "\n",
    "from IPython.core.display import display, HTML\n",
    "display(HTML('<h3>Upload the camera path JSON.</h3>'))\n",
    "%cd $training_run_dir\n",
    "uploaded = files.upload()\n",
    "uploaded_camera_path_filename = list(uploaded.keys())[0]\n",
    "\n",
    "config_filename = training_run_dir + \"/config.yml\"\n",
    "camera_path_filename = training_run_dir + \"/\" + uploaded_camera_path_filename\n",
    "camera_path_filename = camera_path_filename.replace(\" \", \"\\\\ \").replace(\"(\", \"\\\\(\").replace(\")\", \"\\\\)\")\n",
    "\n",
    "%cd /content/\n",
    "!ns-render --load-config $config_filename --traj filename --camera-path-filename $camera_path_filename --output-path renders/output.mp4"
   ]
  },
  {
   "cell_type": "code",
   "execution_count": null,
   "metadata": {
    "id": "5n1AdHGJO5LY"
   },
   "outputs": [],
   "source": []
  }
 ],
 "metadata": {
  "accelerator": "GPU",
  "colab": {
   "collapsed_sections": [],
   "provenance": [
    {
     "file_id": "https://github.com/nerfstudio-project/nerfstudio/blob/main/colab/demo.ipynb",
     "timestamp": 1668423682984
    }
   ]
  },
  "gpuClass": "standard",
  "kernelspec": {
   "display_name": "Python 3 (ipykernel)",
   "language": "python",
   "name": "python3"
  },
  "language_info": {
   "codemirror_mode": {
    "name": "ipython",
    "version": 3
   },
   "file_extension": ".py",
   "mimetype": "text/x-python",
   "name": "python",
   "nbconvert_exporter": "python",
   "pygments_lexer": "ipython3",
   "version": "3.7.12"
  },
  "vscode": {
   "interpreter": {
    "hash": "34c28001ff35fb390494047002768a8182dcf55b1b11415165e62ea61557ab83"
   }
  }
 },
 "nbformat": 4,
 "nbformat_minor": 1
}
